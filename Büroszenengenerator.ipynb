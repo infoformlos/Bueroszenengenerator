{
  "cells": [
    {
      "cell_type": "code",
      "execution_count": null,
      "id": "f8177e6f",
      "metadata": {
        "scrolled": true,
        "colab": {
          "base_uri": "https://localhost:8080/"
        },
        "id": "f8177e6f",
        "outputId": "63f2937e-8d35-4340-8350-5d7ff62ec536"
      },
      "outputs": [
        {
          "output_type": "stream",
          "name": "stdout",
          "text": [
            "\n",
            "DAS IDEALBILD EINES BÜROS\n",
            "  VON SCHWINDENDEM LICHT BELEUCHTET\n",
            "      FLEIßIGE ENTSPRECHEN DEN ANFORDERUNGEN AN EINER GLASTÜR\n",
            "          WORAUS UNKLARE KONSEQUENZEN ERWACHSEN\n",
            "\n"
          ]
        }
      ],
      "source": [
        "from random import choice\n",
        "\n",
        "#abhängig von der anzeigehäufigkeit kann es hier noch nötig werden, wiederholungen auszuschließen\n",
        "\n",
        "zustand = ['DIE POLIERTEN HOLZFLÄCHEN', 'DIE LANGSAME AUFLÖSUNG', 'Die GLATTEN MARMORIERTEN OBERFLÄCHEN'\n",
        "           'DIE ANGENEHME ANMUTUNG', 'DIE ALLMÄHLICHE ERSCHÖPFUNG', 'DIE VERDECKTEN MUSTER'\n",
        "           'DAS IDEALBILD', 'DIE ORGANISIERTE SPONTANEITÄT', 'DIE TECHNOLOGISCHE AUSSTATTUNG'\n",
        "           'DAS ZEITGENÖSSISCHE FARBSCHEMA', 'DIE AHNUNG VON LEBENDIGKEIT', 'DIE ALLTÄGLICHE GETRIEBENHEIT',\n",
        "           'DIE FREUDIGE ANGESPANNTHEIT', 'DIE PFLICHTSCHULDIGE LOCKERHEIT', 'DIE RICHTUNGSLOSE INTENSITÄT',\n",
        "           'DAS RAUSCHEN', 'DIE ANMUTUNG', 'DIE INNEREN MONOLOGE', 'DIE MOTIVIERENDE KUNST', 'DIE KOLLABORATIVEN RÄUME'\n",
        "           'DIE BESTANDSAUFNAHME', 'DER ANSCHEIN VON VERÄNDERUNG', 'LAGERHAFTE ANMUTUNG', 'DER HARTE INNERE HIMMEL', 'DIE GEDÄMPFTEN FARBTÖNE'\n",
        "           'DIE FUNKTIONALE FORMIERUNG', 'DIE AUSGESUCHTE TEXTILWELT', 'DIE MODISCHEN ERSCHEINUNGEN'\n",
        "           ]\n",
        "\n",
        "lichtart = ['DIESIGEM AUßENLICHT', 'TAGESLICHTLAMPEN', 'KERZEN, DIE NÖTIG WURDEN',\n",
        "            'TASCHENLAMPENLICHTKEGELN', 'DÜNNEN LICHTFÄDEN',\n",
        "            'THEATERSCHEINWERFERN', 'NORMLICHTANWENDUNGEN', 'FEUERWERKSKÖRPERN',\n",
        "            'KAFFEEAUTOMATENLAMPEN', 'ALEXANDERPLATZLICHT', 'UNKLARER LICHTQUELLE',\n",
        "            'BERLINLICHT', 'STREULICHT', 'HARTEN SPOTS', 'EINFALLENDEM MONDLICHT',\n",
        "            'KEINERLEI SICHTBARER LICHTQUELLE',\n",
        "            'PLÖTZLICH EINGESCHALTETEM LICHT', 'SCHWINDENDEM LICHT','WOLKIGEN DÄMMERLICHT',\n",
        "            'FLACKERND UNSICHEREN LICHT','FUNKEN SPRÜHENDEN TISCHFEUERWERK',\n",
        "            'SANFTEN, WARMEN SONNENLICHT', 'KALTEN, BLAUEN MONDLICHT','WEICHEN, DIFFUSEN STREULICHT',\n",
        "            'SCHARFEN, FOKUSSIERTEN SPOTLICHT','FLIEßENDEN, BEWEGLICHEN LICHT','PULSIERENDEN LICHT',\n",
        "            'GEDÄMPFTEN, GEHEIMNISVOLLEN LICHT','TRÜBEN, DIFFUSEN DÄMMERLICHT','HELLEN, STRAHLENDEN TAGESLICHT',\n",
        "            'SCHWACHEN, FLACKERNDEN NACHTLICHT', 'WECHSELNDEN, ATMOSPHÄRISCHEN LICHT', 'MAGISCHEN, UNHEIMLICHEN LICHT'\n",
        "            ]\n",
        "\n",
        "personen = ['EILIGE', 'SÄUMIGE', 'PFLICHTSCHULDIGE', 'GEWANDTE',\n",
        "            'BEREITWILLIGE', 'WIDERSPENSTIGE',\n",
        "            'SELBSTVERÄNDERUNGSWILLIGE', 'ERMÜDETE', 'AUFTRUMPFENDE', 'VORSICHTIGE',\n",
        "            'EINIGE', 'VERGELTUNGSSÜCHTIGE', 'BELOBIGTE', 'UNENTSCHIEDENE',\n",
        "            'VERGNÜGUNGSGEWILLTE', 'FLEIßIGE', 'ALLES INVESTIERENDE',\n",
        "            'AKZEPTANZ VERSTRÖMENDE', 'TOLERANZ ÜBENDE',\n",
        "            'TALENTIERTE', 'BEMÜßIGTE', 'RISIKOFREUDIGE','TRÄGE', 'PFLICHTVERGESSENE', 'GESCHICKTE',\n",
        "            'SELBSTSICHERE','VORSICHTIGE','EINIGE','RACHSÜCHTIGE','UNENTSCHLOSSEN','BEGABTE',\n",
        "            'BEMÜHTE'\n",
        "            ]\n",
        "\n",
        "tätigkeit = ['DISKUTIEREN', 'SCHWEBEN', 'TANZEN',\n",
        "             'BEREICHERN', 'BRAINSTORMEN', 'SUCHEN ERFAHRUNGEN', 'BLEIBEN', 'ENTSPRECHEN DEN ANFORDERUNGEN',\n",
        "             'REIßEN DIE DEADLINE', 'ERWACHEN', 'STEHEN',\n",
        "             'WOLLTEN VIELLEICHT ZU VIEL', 'SUCHEN IHREN ARBEITSPLATZ', 'SAMMELN SICH',\n",
        "             'FLIRTEN', 'SCHLAFEN', 'BENEHMEN SICH LEIDLICH', 'VERSCHWINDEN ALLMÄHLICH'\n",
        "             'ARBEITEN DURCH', 'BEREITEN SICH VOR', 'BESPRECHEN ALLES', 'BEARBEITEN ETWAS',\n",
        "              'ERSTELLEN DAS GEFORDERTE', 'BEOBACHTEN MARKTTRENDS', 'ENTFERNEN SICH IMMER MEHR',\n",
        "             'BEDIENEN TECHNOLOGIE', 'PLANEN', 'ORGANISIEREN SICH'\n",
        "             ]\n",
        "\n",
        "ort = ['VOR EINER POLIERTEN GLASFRONT', 'VOR RAUMTEILERN',\n",
        "       'AN EINER GLASTÜR', 'IN AQUARIENARTIGEN SITZUNGSRÄUMEN', 'IM DURCHGANG',\n",
        "       'IM EINKLANG MIT SICH', 'IN DER FAHRSTUHLWARTEZEIT',\n",
        "       'IN STRATEGISCHEN WUTAUSBRÜCHEN', 'IN UNBEOBACHTETEN MOMENTEN',\n",
        "       'IN STRAPAZIERTEN ERGONOMIESTÜHLEN', 'MIT BLICK AUF DIE WORK-LIFE-BALANCE',\n",
        "       'AM ORT IHRES WIRKENS', 'AM ENDE IHRER KRÄFTE', 'IM LIMBO DER GRUPPENDYNAMIK',\n",
        "       'KURZ VOR SCHLUSS', 'NOCHMAL VON VORNE BEGINNEND'\n",
        "       ]\n",
        "\n",
        "konsequenz = ['VERBLASSENDE HOPPER-GEMÄLDE ENTSTEHEN', 'FLÜCHTIGES SPRACHMATERIAL GENERIERT WIRD',\n",
        "              'SICH BALD VERGESSENE LYRICS FORMEN', 'DIE ZUKUNFT REPRODUZIERBAR IST',\n",
        "              'IMMER NEUE GEGENWART GEMACHT WIRD', 'VORÜBERGEHEND AFFEKTE ENTSTEHEN'\n",
        "              'EIN SCHWACHER TRANCEZUSTAND BLEIBT', 'SICH EIN SCHNELLES GRUPPENFOTO ERGIBT',\n",
        "              'BEMERKENSWERT WENIG HERVORGEHT', 'EPHEMERE KONZEPTPAPIERE GEWONNEN WERDEN',\n",
        "              'ETWAS EITLE EXCELTABELLEN ENTSTEHEN', 'KURZE GESPRÄCHE ZEITWEILIG MATERIAL BEZIEHEN',\n",
        "              'EINE TEMPORÄRE FLUCHTBEWEGUNG ENTSTEHT', 'VERÄNDERUNG IMMER NUR HERVORGEHEN KÖNNTE',\n",
        "              'DIE MOMENTE BEGRENZTE BLEIBEKRAFT BEZIEHEN', 'UNKLARE KONSEQUENZEN ERWACHSEN'\n",
        "            ]\n",
        "\n",
        "\n",
        "print('')\n",
        "print(choice(zustand) + ' EINES BÜROS')\n",
        "print('  ' + 'VON ' + choice(lichtart) + ' BELEUCHTET')\n",
        "print('      ' + choice(personen) + ' ' + choice(tätigkeit) + ' ' + choice(ort))\n",
        "print('          ' + 'WORAUS ' + choice(konsequenz))\n",
        "print('')"
      ]
    }
  ],
  "metadata": {
    "kernelspec": {
      "display_name": "Python 3 (ipykernel)",
      "language": "python",
      "name": "python3"
    },
    "language_info": {
      "codemirror_mode": {
        "name": "ipython",
        "version": 3
      },
      "file_extension": ".py",
      "mimetype": "text/x-python",
      "name": "python",
      "nbconvert_exporter": "python",
      "pygments_lexer": "ipython3",
      "version": "3.9.7"
    },
    "colab": {
      "provenance": []
    }
  },
  "nbformat": 4,
  "nbformat_minor": 5
}